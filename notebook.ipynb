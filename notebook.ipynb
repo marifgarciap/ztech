{
 "cells": [
  {
   "cell_type": "code",
   "execution_count": 2,
   "metadata": {
    "collapsed": true
   },
   "outputs": [
    {
     "name": "stdout",
     "output_type": "stream",
     "text": [
      "        id                        name  \\\n",
      "0  1011334                     3-D Man   \n",
      "1  1017100                A-Bomb (HAS)   \n",
      "2  1009144                      A.I.M.   \n",
      "3  1010699                 Aaron Stack   \n",
      "4  1009146  Abomination (Emil Blonsky)   \n",
      "\n",
      "                                         description  comics  series  stories  \\\n",
      "0                                                         12       3       21   \n",
      "1  Rick Jones has been Hulk's best bud since day ...       4       2        7   \n",
      "2  AIM is a terrorist organization bent on destro...      49      33       52   \n",
      "3                                                         14       3       27   \n",
      "4  Formerly known as Emil Blonsky, a spy of Sovie...      53      26       63   \n",
      "\n",
      "   events  \n",
      "0       1  \n",
      "1       0  \n",
      "2       0  \n",
      "3       0  \n",
      "4       1  \n",
      "1493\n"
     ]
    }
   ],
   "source": [
    "run main.py"
   ]
  }
 ],
 "metadata": {
  "kernelspec": {
   "name": "pycharm-ee2a3e31",
   "language": "python",
   "display_name": "PyCharm (ztech)"
  },
  "language_info": {
   "codemirror_mode": {
    "name": "ipython",
    "version": 2
   },
   "file_extension": ".py",
   "mimetype": "text/x-python",
   "name": "python",
   "nbconvert_exporter": "python",
   "pygments_lexer": "ipython2",
   "version": "2.7.6"
  }
 },
 "nbformat": 4,
 "nbformat_minor": 0
}